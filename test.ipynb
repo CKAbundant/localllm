{
 "cells": [
  {
   "cell_type": "code",
   "execution_count": 1,
   "metadata": {},
   "outputs": [
    {
     "data": {
      "text/plain": [
       "[{'x': 1, 'y': 2, 'z': ['ab', 'cd', 'ef']},\n",
       " {'x': 12, 'y': 22, 'z': ['abz', 'cdz', 'efz']}]"
      ]
     },
     "execution_count": 1,
     "metadata": {},
     "output_type": "execute_result"
    }
   ],
   "source": [
    "a = [{\"x\": 1, \"y\": 2, \"z\": [\"ab\", \"cd\", \"ef\"]}, {\"x\": 12, \"y\": 22, \"z\": [\"abz\", \"cdz\", \"efz\"]}]\n",
    "a"
   ]
  },
  {
   "cell_type": "code",
   "execution_count": null,
   "metadata": {},
   "outputs": [
    {
     "name": "stdout",
     "output_type": "stream",
     "text": [
      "{'x': 1, 'y': 2, 'z': ['1. ab', '2. cd', '3. ef']}\n",
      "{'x': 12, 'y': 22, 'z': ['1. abz', '2. cdz', '3. efz']}\n"
     ]
    }
   ],
   "source": [
    "def list_to_str(nested: dict[str, int | list[str]]) -> dict[str, int | str]:\n",
    "    new = {}\n",
    "    for k, v in nested.items():\n",
    "        if k == \"z\":\n",
    "            new[k] = [f\"{idx+1}. {item}\" for idx, item in zip(range(len(v)), v)]\n",
    "        else:\n",
    "            new[k] = v\n",
    "\n",
    "list_to_str(a[0])"
   ]
  }
 ],
 "metadata": {
  "kernelspec": {
   "display_name": "llm",
   "language": "python",
   "name": "python3"
  },
  "language_info": {
   "codemirror_mode": {
    "name": "ipython",
    "version": 3
   },
   "file_extension": ".py",
   "mimetype": "text/x-python",
   "name": "python",
   "nbconvert_exporter": "python",
   "pygments_lexer": "ipython3",
   "version": "3.13.2"
  }
 },
 "nbformat": 4,
 "nbformat_minor": 2
}
